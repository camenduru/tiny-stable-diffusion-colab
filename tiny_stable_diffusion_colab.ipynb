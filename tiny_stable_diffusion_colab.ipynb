{
  "cells": [
    {
      "cell_type": "markdown",
      "metadata": {
        "id": "view-in-github"
      },
      "source": [
        "[![Open In Colab](https://colab.research.google.com/assets/colab-badge.svg)](https://colab.research.google.com/github/camenduru/tiny-stable-diffusion-colab/blob/main/tiny_stable_diffusion_colab.ipynb)"
      ]
    },
    {
      "cell_type": "code",
      "execution_count": null,
      "metadata": {
        "id": "NrgcDwZxgDOe"
      },
      "outputs": [],
      "source": [
        "%cd /content\n",
        "!git clone -b dev https://github.com/camenduru/tiny-stable-diffusion\n",
        "\n",
        "\n",
        "%cd /content/tiny-stable-diffusion\n",
        "!python3 tiny_optimizedSD/tiny_txt2img.py --prompt \"A peaceful lakeside cabin with a dock, surrounded by tall pine trees and a clear blue sky\" --H 512 --W 512 --seed 27"
      ]
    }
  ],
  "metadata": {
    "accelerator": "GPU",
    "colab": {
      "gpuType": "T4",
      "provenance": []
    },
    "kernelspec": {
      "display_name": "Python 3",
      "name": "python3"
    },
    "language_info": {
      "name": "python"
    }
  },
  "nbformat": 4,
  "nbformat_minor": 0
}
